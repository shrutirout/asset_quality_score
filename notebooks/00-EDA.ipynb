{
 "cells": [
  {
   "cell_type": "markdown",
   "id": "01fbe9f3",
   "metadata": {},
   "source": [
    "# 00-EDA: Exploratory Data Analysis\n",
    "*Loading Lending Club data and inspecting key fields.*"
   ]
  }
 ],
 "metadata": {
  "language_info": {
   "name": "python"
  }
 },
 "nbformat": 4,
 "nbformat_minor": 5
}
